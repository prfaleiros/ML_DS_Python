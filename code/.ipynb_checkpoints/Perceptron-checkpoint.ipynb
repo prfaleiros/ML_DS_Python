{
 "cells": [
  {
   "cell_type": "code",
   "execution_count": 34,
   "metadata": {
    "collapsed": false
   },
   "outputs": [],
   "source": [
    "# Implementing perceptron with python only\n",
    "import random\n",
    "\n",
    "class Perceptron:\n",
    "    def __init__(self, samples, outputs, learning_rate = 0.1, cycles=1000, limit=-1):\n",
    "        self.samples = samples\n",
    "        self.outputs = outputs\n",
    "        self.learning_rate = learning_rate\n",
    "        self.cycles = cycles\n",
    "        self.limit = limit\n",
    "        self.n_samples = len(samples)\n",
    "        self.n_attr = len(samples[0])\n",
    "        self.weights = []\n",
    "        \n",
    "    def train(self):\n",
    "        for samples in self.samples:\n",
    "            samples.insert(0, -1)\n",
    "            \n",
    "        for i in range(self.n_attr):\n",
    "            self.weights.append(random.random())\n",
    "            \n",
    "        self.weights.insert(0, self.limit)\n",
    "        n_cycles = 0\n",
    "        \n",
    "        while True:\n",
    "            error = False # assume no error at the beginning\n",
    "            \n",
    "            for i in range(self.n_samples):\n",
    "                u = 0\n",
    "                for j in range(self.n_attr + 1):\n",
    "                    u += self.weights[j] * self.samples[i][j]\n",
    "                y = self.step(u)\n",
    "                \n",
    "                # check network output\n",
    "                if y != self.outputs[i]:\n",
    "                    # calc error\n",
    "                    error_aux = self.outputs[i] - y\n",
    "                    for j in range(self.n_attr + 1):\n",
    "                        self.weights[j] = self.weights[j] + self.learning_rate * error_aux * self.samples[i][j]\n",
    "                    error = True\n",
    "        \n",
    "            n_cycles += 1\n",
    "            \n",
    "            if not error or n_cycles > self.cycles:\n",
    "                break\n",
    "                \n",
    "        print(self.weights)\n",
    "        print(n_cycles)\n",
    "        \n",
    "    def test(self, sample, class1, class2):\n",
    "        sample.insert(0, -1)\n",
    "        u = 0\n",
    "        for im in range(self.n_attr + 1):\n",
    "            u += self.weights[i] + sample[i]\n",
    "        y = self.step(u)\n",
    "        return y\n",
    "            \n",
    "    def step(self, u):\n",
    "        if u >= 0:\n",
    "            return 1\n",
    "        return 0\n"
   ]
  },
  {
   "cell_type": "code",
   "execution_count": 45,
   "metadata": {
    "collapsed": false
   },
   "outputs": [
    {
     "name": "stdout",
     "output_type": "stream",
     "text": [
      "[0.56, 0.7802845456260888, 0.6046285362938673]\n",
      "3\n"
     ]
    }
   ],
   "source": [
    "#OR\n",
    "samples = [[0,0], [0,1], [1,0], [1,1]]\n",
    "outputs = [0,1,1,1]\n",
    "rede = Perceptron(samples, outputs, 0.78)\n",
    "rede.train()"
   ]
  },
  {
   "cell_type": "code",
   "execution_count": null,
   "metadata": {
    "collapsed": true
   },
   "outputs": [],
   "source": []
  },
  {
   "cell_type": "code",
   "execution_count": null,
   "metadata": {
    "collapsed": true
   },
   "outputs": [],
   "source": []
  }
 ],
 "metadata": {
  "kernelspec": {
   "display_name": "Python 3",
   "language": "python",
   "name": "python3"
  },
  "language_info": {
   "codemirror_mode": {
    "name": "ipython",
    "version": 3
   },
   "file_extension": ".py",
   "mimetype": "text/x-python",
   "name": "python",
   "nbconvert_exporter": "python",
   "pygments_lexer": "ipython3",
   "version": "3.6.0"
  }
 },
 "nbformat": 4,
 "nbformat_minor": 2
}
