{
 "cells": [
  {
   "cell_type": "code",
   "execution_count": null,
   "metadata": {
    "collapsed": true
   },
   "outputs": [],
   "source": [
    "# XOR implementation\n",
    "# Multi-layer perceptron network, feed forward"
   ]
  },
  {
   "cell_type": "code",
   "execution_count": 4,
   "metadata": {
    "collapsed": false
   },
   "outputs": [],
   "source": [
    "from pybrain.datasets import SupervisedDataSet"
   ]
  },
  {
   "cell_type": "code",
   "execution_count": 5,
   "metadata": {
    "collapsed": true
   },
   "outputs": [],
   "source": [
    "from pybrain.tools.shortcuts import buildNetwork"
   ]
  },
  {
   "cell_type": "code",
   "execution_count": 6,
   "metadata": {
    "collapsed": true
   },
   "outputs": [],
   "source": [
    "from pybrain.supervised import BackpropTrainer"
   ]
  },
  {
   "cell_type": "code",
   "execution_count": 7,
   "metadata": {
    "collapsed": false
   },
   "outputs": [
    {
     "name": "stdout",
     "output_type": "stream",
     "text": [
      "\n",
      "Testing on data:\n",
      "('out:    ', '[0     ]')\n",
      "('correct:', '[0     ]')\n",
      "error:  0.00000000\n",
      "('out:    ', '[1     ]')\n",
      "('correct:', '[1     ]')\n",
      "error:  0.00000000\n",
      "('out:    ', '[1     ]')\n",
      "('correct:', '[1     ]')\n",
      "error:  0.00000000\n",
      "('out:    ', '[0     ]')\n",
      "('correct:', '[0     ]')\n",
      "error:  0.00000000\n",
      "('All errors:', [4.1818539473056736e-16, 8.6346658795346237e-17, 3.5176007701904872e-17, 1.9338809118517459e-18])\n",
      "('Average error:', 1.3541048553491753e-16)\n",
      "('Max error:', 4.1818539473056736e-16, 'Median error:', 8.6346658795346237e-17)\n"
     ]
    },
    {
     "data": {
      "text/plain": [
       "1.3541048553491753e-16"
      ]
     },
     "execution_count": 7,
     "metadata": {},
     "output_type": "execute_result"
    }
   ],
   "source": [
    "# inform input vector dimensions\n",
    "dataset = SupervisedDataSet(2, 1)\n",
    "\n",
    "# build truth table\n",
    "dataset.addSample([1,1], [0])\n",
    "dataset.addSample([1,0], [1])\n",
    "dataset.addSample([0,1], [1])\n",
    "dataset.addSample([0,0], [0])\n",
    "\n",
    "# build network\n",
    "network = buildNetwork(dataset.indim, 4, dataset.outdim, bias=True)\n",
    "\n",
    "# Train\n",
    "trainer = BackpropTrainer(network, dataset, learningrate=0.01, momentum=0.99)\n",
    "\n",
    "'''\n",
    "for epoch in range(1000):\n",
    "    trainer.train()\n",
    "''' \n",
    "trainer.trainEpochs(1000)\n",
    "\n",
    "'''\n",
    "    train until convergence - trainer.trainUntilConvergence\n",
    "'''\n",
    "\n",
    "test_data = SupervisedDataSet(2, 1)\n",
    "\n",
    "test_data.addSample([1,1], [0])\n",
    "test_data.addSample([1,0], [1])\n",
    "test_data.addSample([0,1], [1])\n",
    "test_data.addSample([0,0], [0])\n",
    "\n",
    "trainer.testOnData(test_data, verbose=True)"
   ]
  },
  {
   "cell_type": "code",
   "execution_count": null,
   "metadata": {
    "collapsed": true
   },
   "outputs": [],
   "source": []
  }
 ],
 "metadata": {
  "kernelspec": {
   "display_name": "Python 3",
   "language": "python",
   "name": "python3"
  },
  "language_info": {
   "codemirror_mode": {
    "name": "ipython",
    "version": 3
   },
   "file_extension": ".py",
   "mimetype": "text/x-python",
   "name": "python",
   "nbconvert_exporter": "python",
   "pygments_lexer": "ipython3",
   "version": "3.6.0"
  }
 },
 "nbformat": 4,
 "nbformat_minor": 2
}
