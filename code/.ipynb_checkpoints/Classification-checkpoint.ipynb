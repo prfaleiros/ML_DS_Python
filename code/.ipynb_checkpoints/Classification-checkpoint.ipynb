{
 "cells": [
  {
   "cell_type": "code",
   "execution_count": 1,
   "metadata": {
    "collapsed": true
   },
   "outputs": [],
   "source": [
    "# knn implementation\n",
    "# dataset: Haberman's survival"
   ]
  },
  {
   "cell_type": "code",
   "execution_count": 2,
   "metadata": {
    "collapsed": true
   },
   "outputs": [],
   "source": [
    "%matplotlib inline\n",
    "import matplotlib.pyplot as plt\n",
    "import numpy as np\n",
    "import pandas as pd"
   ]
  },
  {
   "cell_type": "code",
   "execution_count": 6,
   "metadata": {
    "collapsed": false
   },
   "outputs": [],
   "source": [
    "# read dataset from file\n",
    "# full dataset will be read as a list of lists\n",
    "samples = []\n",
    "\n",
    "with open('../data/haberman.data') as f:\n",
    "    for line in f.readlines():\n",
    "            atrib = line.replace('\\\\n', '').split(',')\n",
    "            samples.append([int(atrib[0]), int(atrib[1]),\n",
    "                            int(atrib[2]), int(atrib[3])])"
   ]
  },
  {
   "cell_type": "code",
   "execution_count": 7,
   "metadata": {
    "collapsed": false
   },
   "outputs": [
    {
     "data": {
      "text/plain": [
       "[[30, 64, 1, 1],\n",
       " [30, 62, 3, 1],\n",
       " [30, 65, 0, 1],\n",
       " [31, 59, 2, 1],\n",
       " [31, 65, 4, 1],\n",
       " [33, 58, 10, 1],\n",
       " [33, 60, 0, 1],\n",
       " [34, 59, 0, 2],\n",
       " [34, 66, 9, 2],\n",
       " [34, 58, 30, 1],\n",
       " [34, 60, 1, 1],\n",
       " [34, 61, 10, 1],\n",
       " [34, 67, 7, 1],\n",
       " [34, 60, 0, 1],\n",
       " [35, 64, 13, 1],\n",
       " [35, 63, 0, 1],\n",
       " [36, 60, 1, 1],\n",
       " [36, 69, 0, 1],\n",
       " [37, 60, 0, 1],\n",
       " [37, 63, 0, 1],\n",
       " [37, 58, 0, 1],\n",
       " [37, 59, 6, 1],\n",
       " [37, 60, 15, 1],\n",
       " [37, 63, 0, 1],\n",
       " [38, 69, 21, 2],\n",
       " [38, 59, 2, 1],\n",
       " [38, 60, 0, 1],\n",
       " [38, 60, 0, 1],\n",
       " [38, 62, 3, 1],\n",
       " [38, 64, 1, 1],\n",
       " [38, 66, 0, 1],\n",
       " [38, 66, 11, 1],\n",
       " [38, 60, 1, 1],\n",
       " [38, 67, 5, 1],\n",
       " [39, 66, 0, 2],\n",
       " [39, 63, 0, 1],\n",
       " [39, 67, 0, 1],\n",
       " [39, 58, 0, 1],\n",
       " [39, 59, 2, 1],\n",
       " [39, 63, 4, 1],\n",
       " [40, 58, 2, 1],\n",
       " [40, 58, 0, 1],\n",
       " [40, 65, 0, 1],\n",
       " [41, 60, 23, 2],\n",
       " [41, 64, 0, 2],\n",
       " [41, 67, 0, 2],\n",
       " [41, 58, 0, 1],\n",
       " [41, 59, 8, 1],\n",
       " [41, 59, 0, 1],\n",
       " [41, 64, 0, 1],\n",
       " [41, 69, 8, 1],\n",
       " [41, 65, 0, 1],\n",
       " [41, 65, 0, 1],\n",
       " [42, 69, 1, 2],\n",
       " [42, 59, 0, 2],\n",
       " [42, 58, 0, 1],\n",
       " [42, 60, 1, 1],\n",
       " [42, 59, 2, 1],\n",
       " [42, 61, 4, 1],\n",
       " [42, 62, 20, 1],\n",
       " [42, 65, 0, 1],\n",
       " [42, 63, 1, 1],\n",
       " [43, 58, 52, 2],\n",
       " [43, 59, 2, 2],\n",
       " [43, 64, 0, 2],\n",
       " [43, 64, 0, 2],\n",
       " [43, 63, 14, 1],\n",
       " [43, 64, 2, 1],\n",
       " [43, 64, 3, 1],\n",
       " [43, 60, 0, 1],\n",
       " [43, 63, 2, 1],\n",
       " [43, 65, 0, 1],\n",
       " [43, 66, 4, 1],\n",
       " [44, 64, 6, 2],\n",
       " [44, 58, 9, 2],\n",
       " [44, 63, 19, 2],\n",
       " [44, 61, 0, 1],\n",
       " [44, 63, 1, 1],\n",
       " [44, 61, 0, 1],\n",
       " [44, 67, 16, 1],\n",
       " [45, 65, 6, 2],\n",
       " [45, 66, 0, 2],\n",
       " [45, 67, 1, 2],\n",
       " [45, 60, 0, 1],\n",
       " [45, 67, 0, 1],\n",
       " [45, 59, 14, 1],\n",
       " [45, 64, 0, 1],\n",
       " [45, 68, 0, 1],\n",
       " [45, 67, 1, 1],\n",
       " [46, 58, 2, 2],\n",
       " [46, 69, 3, 2],\n",
       " [46, 62, 5, 2],\n",
       " [46, 65, 20, 2],\n",
       " [46, 62, 0, 1],\n",
       " [46, 58, 3, 1],\n",
       " [46, 63, 0, 1],\n",
       " [47, 63, 23, 2],\n",
       " [47, 62, 0, 2],\n",
       " [47, 65, 0, 2],\n",
       " [47, 61, 0, 1],\n",
       " [47, 63, 6, 1],\n",
       " [47, 66, 0, 1],\n",
       " [47, 67, 0, 1],\n",
       " [47, 58, 3, 1],\n",
       " [47, 60, 4, 1],\n",
       " [47, 68, 4, 1],\n",
       " [47, 66, 12, 1],\n",
       " [48, 58, 11, 2],\n",
       " [48, 58, 11, 2],\n",
       " [48, 67, 7, 2],\n",
       " [48, 61, 8, 1],\n",
       " [48, 62, 2, 1],\n",
       " [48, 64, 0, 1],\n",
       " [48, 66, 0, 1],\n",
       " [49, 63, 0, 2],\n",
       " [49, 64, 10, 2],\n",
       " [49, 61, 1, 1],\n",
       " [49, 62, 0, 1],\n",
       " [49, 66, 0, 1],\n",
       " [49, 60, 1, 1],\n",
       " [49, 62, 1, 1],\n",
       " [49, 63, 3, 1],\n",
       " [49, 61, 0, 1],\n",
       " [49, 67, 1, 1],\n",
       " [50, 63, 13, 2],\n",
       " [50, 64, 0, 2],\n",
       " [50, 59, 0, 1],\n",
       " [50, 61, 6, 1],\n",
       " [50, 61, 0, 1],\n",
       " [50, 63, 1, 1],\n",
       " [50, 58, 1, 1],\n",
       " [50, 59, 2, 1],\n",
       " [50, 61, 0, 1],\n",
       " [50, 64, 0, 1],\n",
       " [50, 65, 4, 1],\n",
       " [50, 66, 1, 1],\n",
       " [51, 59, 13, 2],\n",
       " [51, 59, 3, 2],\n",
       " [51, 64, 7, 1],\n",
       " [51, 59, 1, 1],\n",
       " [51, 65, 0, 1],\n",
       " [51, 66, 1, 1],\n",
       " [52, 69, 3, 2],\n",
       " [52, 59, 2, 2],\n",
       " [52, 62, 3, 2],\n",
       " [52, 66, 4, 2],\n",
       " [52, 61, 0, 1],\n",
       " [52, 63, 4, 1],\n",
       " [52, 69, 0, 1],\n",
       " [52, 60, 4, 1],\n",
       " [52, 60, 5, 1],\n",
       " [52, 62, 0, 1],\n",
       " [52, 62, 1, 1],\n",
       " [52, 64, 0, 1],\n",
       " [52, 65, 0, 1],\n",
       " [52, 68, 0, 1],\n",
       " [53, 58, 4, 2],\n",
       " [53, 65, 1, 2],\n",
       " [53, 59, 3, 2],\n",
       " [53, 60, 9, 2],\n",
       " [53, 63, 24, 2],\n",
       " [53, 65, 12, 2],\n",
       " [53, 58, 1, 1],\n",
       " [53, 60, 1, 1],\n",
       " [53, 60, 2, 1],\n",
       " [53, 61, 1, 1],\n",
       " [53, 63, 0, 1],\n",
       " [54, 60, 11, 2],\n",
       " [54, 65, 23, 2],\n",
       " [54, 65, 5, 2],\n",
       " [54, 68, 7, 2],\n",
       " [54, 59, 7, 1],\n",
       " [54, 60, 3, 1],\n",
       " [54, 66, 0, 1],\n",
       " [54, 67, 46, 1],\n",
       " [54, 62, 0, 1],\n",
       " [54, 69, 7, 1],\n",
       " [54, 63, 19, 1],\n",
       " [54, 58, 1, 1],\n",
       " [54, 62, 0, 1],\n",
       " [55, 63, 6, 2],\n",
       " [55, 68, 15, 2],\n",
       " [55, 58, 1, 1],\n",
       " [55, 58, 0, 1],\n",
       " [55, 58, 1, 1],\n",
       " [55, 66, 18, 1],\n",
       " [55, 66, 0, 1],\n",
       " [55, 69, 3, 1],\n",
       " [55, 69, 22, 1],\n",
       " [55, 67, 1, 1],\n",
       " [56, 65, 9, 2],\n",
       " [56, 66, 3, 2],\n",
       " [56, 60, 0, 1],\n",
       " [56, 66, 2, 1],\n",
       " [56, 66, 1, 1],\n",
       " [56, 67, 0, 1],\n",
       " [56, 60, 0, 1],\n",
       " [57, 61, 5, 2],\n",
       " [57, 62, 14, 2],\n",
       " [57, 64, 1, 2],\n",
       " [57, 64, 9, 1],\n",
       " [57, 69, 0, 1],\n",
       " [57, 61, 0, 1],\n",
       " [57, 62, 0, 1],\n",
       " [57, 63, 0, 1],\n",
       " [57, 64, 0, 1],\n",
       " [57, 64, 0, 1],\n",
       " [57, 67, 0, 1],\n",
       " [58, 59, 0, 1],\n",
       " [58, 60, 3, 1],\n",
       " [58, 61, 1, 1],\n",
       " [58, 67, 0, 1],\n",
       " [58, 58, 0, 1],\n",
       " [58, 58, 3, 1],\n",
       " [58, 61, 2, 1],\n",
       " [59, 62, 35, 2],\n",
       " [59, 60, 0, 1],\n",
       " [59, 63, 0, 1],\n",
       " [59, 64, 1, 1],\n",
       " [59, 64, 4, 1],\n",
       " [59, 64, 0, 1],\n",
       " [59, 64, 7, 1],\n",
       " [59, 67, 3, 1],\n",
       " [60, 59, 17, 2],\n",
       " [60, 65, 0, 2],\n",
       " [60, 61, 1, 1],\n",
       " [60, 67, 2, 1],\n",
       " [60, 61, 25, 1],\n",
       " [60, 64, 0, 1],\n",
       " [61, 62, 5, 2],\n",
       " [61, 65, 0, 2],\n",
       " [61, 68, 1, 2],\n",
       " [61, 59, 0, 1],\n",
       " [61, 59, 0, 1],\n",
       " [61, 64, 0, 1],\n",
       " [61, 65, 8, 1],\n",
       " [61, 68, 0, 1],\n",
       " [61, 59, 0, 1],\n",
       " [62, 59, 13, 2],\n",
       " [62, 58, 0, 2],\n",
       " [62, 65, 19, 2],\n",
       " [62, 62, 6, 1],\n",
       " [62, 66, 0, 1],\n",
       " [62, 66, 0, 1],\n",
       " [62, 58, 0, 1],\n",
       " [63, 60, 1, 2],\n",
       " [63, 61, 0, 1],\n",
       " [63, 62, 0, 1],\n",
       " [63, 63, 0, 1],\n",
       " [63, 63, 0, 1],\n",
       " [63, 66, 0, 1],\n",
       " [63, 61, 9, 1],\n",
       " [63, 61, 28, 1],\n",
       " [64, 58, 0, 1],\n",
       " [64, 65, 22, 1],\n",
       " [64, 66, 0, 1],\n",
       " [64, 61, 0, 1],\n",
       " [64, 68, 0, 1],\n",
       " [65, 58, 0, 2],\n",
       " [65, 61, 2, 2],\n",
       " [65, 62, 22, 2],\n",
       " [65, 66, 15, 2],\n",
       " [65, 58, 0, 1],\n",
       " [65, 64, 0, 1],\n",
       " [65, 67, 0, 1],\n",
       " [65, 59, 2, 1],\n",
       " [65, 64, 0, 1],\n",
       " [65, 67, 1, 1],\n",
       " [66, 58, 0, 2],\n",
       " [66, 61, 13, 2],\n",
       " [66, 58, 0, 1],\n",
       " [66, 58, 1, 1],\n",
       " [66, 68, 0, 1],\n",
       " [67, 64, 8, 2],\n",
       " [67, 63, 1, 2],\n",
       " [67, 66, 0, 1],\n",
       " [67, 66, 0, 1],\n",
       " [67, 61, 0, 1],\n",
       " [67, 65, 0, 1],\n",
       " [68, 67, 0, 1],\n",
       " [68, 68, 0, 1],\n",
       " [69, 67, 8, 2],\n",
       " [69, 60, 0, 1],\n",
       " [69, 65, 0, 1],\n",
       " [69, 66, 0, 1],\n",
       " [70, 58, 0, 2],\n",
       " [70, 58, 4, 2],\n",
       " [70, 66, 14, 1],\n",
       " [70, 67, 0, 1],\n",
       " [70, 68, 0, 1],\n",
       " [70, 59, 8, 1],\n",
       " [70, 63, 0, 1],\n",
       " [71, 68, 2, 1],\n",
       " [72, 63, 0, 2],\n",
       " [72, 58, 0, 1],\n",
       " [72, 64, 0, 1],\n",
       " [72, 67, 3, 1],\n",
       " [73, 62, 0, 1],\n",
       " [73, 68, 0, 1],\n",
       " [74, 65, 3, 2],\n",
       " [74, 63, 0, 1],\n",
       " [75, 62, 1, 1],\n",
       " [76, 67, 0, 1],\n",
       " [77, 65, 3, 1],\n",
       " [78, 65, 1, 2],\n",
       " [83, 58, 2, 2]]"
      ]
     },
     "execution_count": 7,
     "metadata": {},
     "output_type": "execute_result"
    }
   ],
   "source": [
    "samples"
   ]
  },
  {
   "cell_type": "code",
   "execution_count": 20,
   "metadata": {
    "collapsed": true
   },
   "outputs": [],
   "source": [
    "# parameter to separate train and test datasets\n",
    "p = 0.6\n",
    "\n",
    "# train dataset\n",
    "ltrain = int(p * len(samples))\n",
    "sample_train = samples[0:ltrain]\n",
    "\n",
    "# test dataset\n",
    "sample_test = samples[ltrain:]"
   ]
  },
  {
   "cell_type": "code",
   "execution_count": 22,
   "metadata": {
    "collapsed": false
   },
   "outputs": [],
   "source": [
    "# create a Euclydian dist function\n",
    "import math\n",
    "\n",
    "def eucl(v1, v2):\n",
    "    dim, s = len(v1), 0\n",
    "    for i in range(dim - 1):\n",
    "        s += math.pow(v1[i] - v2[i], 2)\n",
    "    return math.sqrt(s)"
   ]
  },
  {
   "cell_type": "code",
   "execution_count": 23,
   "metadata": {
    "collapsed": false
   },
   "outputs": [
    {
     "data": {
      "text/plain": [
       "1.4142135623730951"
      ]
     },
     "execution_count": 23,
     "metadata": {},
     "output_type": "execute_result"
    }
   ],
   "source": [
    "v1 = [1,2,3]\n",
    "v2 = [2,1,3]\n",
    "eucl(v1,v2)"
   ]
  },
  {
   "cell_type": "code",
   "execution_count": 25,
   "metadata": {
    "collapsed": false
   },
   "outputs": [],
   "source": [
    "def knn(train, new_sample, k):\n",
    "    dists, ltrain = {}, len(train)\n",
    "    # calculates Euclydian dist of new sample\n",
    "    # for every example of train dataset\n",
    "    for i in range(ltrain):\n",
    "        d = eucl(train[i], new_sample)\n",
    "        dists[i] = d\n",
    "        \n",
    "    # get keys of k-nearest neibors\n",
    "    k_nearest = sorted(dists, key=dists.get)[:k]\n",
    "    \n",
    "    # most voted\n",
    "    qt_label1, qt_label2 = 0, 0\n",
    "    for index in k_nearest:\n",
    "        if train[index][-1] == 1:\n",
    "            qt_label1 += 1\n",
    "        else:\n",
    "            qt_label2 += 1\n",
    "    if qt_label1 > qt_label2:\n",
    "        return 1\n",
    "    else:\n",
    "        return 2"
   ]
  },
  {
   "cell_type": "code",
   "execution_count": 32,
   "metadata": {
    "collapsed": false
   },
   "outputs": [
    {
     "name": "stdout",
     "output_type": "stream",
     "text": [
      "[57, 61, 5, 2]\n",
      "1\n"
     ]
    }
   ],
   "source": [
    "# running knn\n",
    "j = 14\n",
    "print(sample_test[j])\n",
    "print(knn(sample_train, sample_test[j], k = 13))"
   ]
  },
  {
   "cell_type": "code",
   "execution_count": 42,
   "metadata": {
    "collapsed": false
   },
   "outputs": [
    {
     "name": "stdout",
     "output_type": "stream",
     "text": [
      "Total train: 183\n",
      "Total test:  123\n",
      "Total match: 93\n",
      "Pct match:   75.61%\n"
     ]
    }
   ],
   "source": [
    "# proofing knn\n",
    "matches, K = 0, 15\n",
    "for samp in sample_test:\n",
    "    cl = knn(sample_train, samp, K)\n",
    "    if samp[-1] == cl:\n",
    "        matches += 1\n",
    "        \n",
    "print ('Total train: %d' % len(sample_train))\n",
    "print ('Total test:  %d' % len(sample_test))\n",
    "print ('Total match: %d' % matches)\n",
    "print ('Pct match:   %.2f%%' % (100 * matches / len(sample_test)))"
   ]
  },
  {
   "cell_type": "code",
   "execution_count": 43,
   "metadata": {
    "collapsed": true
   },
   "outputs": [],
   "source": [
    "# KNN con sklearn\n",
    "from sklearn.neighbors import KNeighborsClassifier"
   ]
  },
  {
   "cell_type": "code",
   "execution_count": 44,
   "metadata": {
    "collapsed": true
   },
   "outputs": [],
   "source": [
    "inputs, outputs = [], []"
   ]
  },
  {
   "cell_type": "code",
   "execution_count": 45,
   "metadata": {
    "collapsed": true
   },
   "outputs": [],
   "source": [
    "with open('../data/haberman.data') as f:\n",
    "    for line in f.readlines():\n",
    "        atrib = line.replace('\\\\n', '').split(',')\n",
    "        inputs.append([int(atrib[0]), int(atrib[2])])\n",
    "        outputs.append(int(atrib[3]))"
   ]
  },
  {
   "cell_type": "code",
   "execution_count": 46,
   "metadata": {
    "collapsed": true
   },
   "outputs": [],
   "source": [
    "# pct train x test\n",
    "p = 0.6"
   ]
  },
  {
   "cell_type": "code",
   "execution_count": 49,
   "metadata": {
    "collapsed": false
   },
   "outputs": [
    {
     "name": "stdout",
     "output_type": "stream",
     "text": [
      "Total train: 183\n",
      "Total test:  123\n",
      "Total match: 92\n",
      "Pct match:   74.80%\n"
     ]
    }
   ],
   "source": [
    "lim = int(p * len(inputs))\n",
    "neigh = KNeighborsClassifier(n_neighbors = 15)\n",
    "                             #, weights='uniform', algorithm='auto', \n",
    "                             # leaf_size=30, p=2, metric='minkowski', \n",
    "                             # metric_params=None, n_jobs=1, \n",
    "                             # **kwargs\n",
    "neigh.fit(inputs[:lim], outputs[:lim])\n",
    "lbl = neigh.predict(inputs[lim:])\n",
    "matches, idx_lbl = 0,0\n",
    "\n",
    "for i in range(lim, len(inputs)):\n",
    "    if lbl[idx_lbl] == outputs[i]:\n",
    "        matches += 1\n",
    "    idx_lbl += 1\n",
    "\n",
    "print ('Total train: %d' % lim)\n",
    "print ('Total test:  %d' % (len(inputs) - lim))\n",
    "print ('Total match: %d' % matches)\n",
    "print ('Pct match:   %.2f%%' % (100 * matches / (len(inputs) - lim)))"
   ]
  },
  {
   "cell_type": "code",
   "execution_count": 50,
   "metadata": {
    "collapsed": true
   },
   "outputs": [],
   "source": [
    "# KNN with numpy and scikit-learn\n",
    "# dataset: http://archive.ics.uci.edu/ml/machine-learning-databases/balance-scale/\n",
    "import numpy as np"
   ]
  },
  {
   "cell_type": "code",
   "execution_count": 64,
   "metadata": {
    "collapsed": false
   },
   "outputs": [],
   "source": [
    "# x are inputs, y are outputs\n",
    "# using a modified dataset for easiness\n",
    "x = np.genfromtxt('../data/balance-scale-new.data', delimiter=',', usecols=(1,2,3,4))\n",
    "y = np.genfromtxt('../data/balance-scale-new.data', delimiter=',', usecols=(0))\n"
   ]
  },
  {
   "cell_type": "code",
   "execution_count": 66,
   "metadata": {
    "collapsed": false
   },
   "outputs": [
    {
     "name": "stdout",
     "output_type": "stream",
     "text": [
      "[[ 1.  1.  1.  1.]\n",
      " [ 1.  1.  1.  2.]\n",
      " [ 1.  1.  1.  3.]\n",
      " ..., \n",
      " [ 5.  5.  5.  3.]\n",
      " [ 5.  5.  5.  4.]\n",
      " [ 5.  5.  5.  5.]]\n",
      "[ 2.  3.  3.  3.  3.  3.  3.  3.  3.  3.  3.  3.  3.  3.  3.  3.  3.  3.\n",
      "  3.  3.  3.  3.  3.  3.  3.  1.  2.  3.  3.  3.  2.  3.  3.  3.  3.  3.\n",
      "  3.  3.  3.  3.  3.  3.  3.  3.  3.  3.  3.  3.  3.  3.  1.  1.  2.  3.\n",
      "  3.  1.  3.  3.  3.  3.  2.  3.  3.  3.  3.  3.  3.  3.  3.  3.  3.  3.\n",
      "  3.  3.  3.  1.  1.  1.  2.  3.  1.  2.  3.  3.  3.  1.  3.  3.  3.  3.\n",
      "  2.  3.  3.  3.  3.  3.  3.  3.  3.  3.  1.  1.  1.  1.  2.  1.  1.  3.\n",
      "  3.  3.  1.  3.  3.  3.  3.  1.  3.  3.  3.  3.  2.  3.  3.  3.  3.  1.\n",
      "  2.  3.  3.  3.  2.  3.  3.  3.  3.  3.  3.  3.  3.  3.  3.  3.  3.  3.\n",
      "  3.  3.  3.  3.  3.  3.  1.  1.  1.  2.  3.  1.  2.  3.  3.  3.  1.  3.\n",
      "  3.  3.  3.  2.  3.  3.  3.  3.  3.  3.  3.  3.  3.  1.  1.  1.  1.  1.\n",
      "  1.  1.  2.  3.  3.  1.  2.  3.  3.  3.  1.  3.  3.  3.  3.  1.  3.  3.\n",
      "  3.  3.  1.  1.  1.  1.  1.  1.  1.  1.  2.  3.  1.  1.  3.  3.  3.  1.\n",
      "  2.  3.  3.  3.  1.  3.  3.  3.  3.  1.  1.  1.  1.  1.  1.  1.  1.  1.\n",
      "  2.  1.  1.  1.  3.  3.  1.  1.  3.  3.  3.  1.  2.  3.  3.  3.  1.  1.\n",
      "  2.  3.  3.  1.  3.  3.  3.  3.  2.  3.  3.  3.  3.  3.  3.  3.  3.  3.\n",
      "  3.  3.  3.  3.  3.  1.  1.  1.  1.  1.  1.  1.  2.  3.  3.  1.  2.  3.\n",
      "  3.  3.  1.  3.  3.  3.  3.  1.  3.  3.  3.  3.  1.  1.  1.  1.  1.  1.\n",
      "  1.  1.  1.  3.  1.  1.  2.  3.  3.  1.  1.  3.  3.  3.  1.  3.  3.  3.\n",
      "  3.  1.  1.  1.  1.  1.  1.  1.  1.  1.  1.  1.  1.  1.  2.  3.  1.  1.\n",
      "  2.  3.  3.  1.  1.  3.  3.  3.  1.  1.  1.  1.  1.  1.  1.  1.  1.  1.\n",
      "  1.  1.  1.  1.  2.  1.  1.  1.  3.  3.  1.  1.  2.  3.  3.  1.  1.  1.\n",
      "  2.  3.  1.  2.  3.  3.  3.  1.  3.  3.  3.  3.  2.  3.  3.  3.  3.  3.\n",
      "  3.  3.  3.  3.  1.  1.  1.  1.  1.  1.  1.  1.  2.  3.  1.  1.  3.  3.\n",
      "  3.  1.  2.  3.  3.  3.  1.  3.  3.  3.  3.  1.  1.  1.  1.  1.  1.  1.\n",
      "  1.  1.  1.  1.  1.  1.  2.  3.  1.  1.  2.  3.  3.  1.  1.  3.  3.  3.\n",
      "  1.  1.  1.  1.  1.  1.  1.  1.  1.  1.  1.  1.  1.  1.  1.  1.  1.  1.\n",
      "  2.  3.  1.  1.  1.  3.  3.  1.  1.  1.  1.  1.  1.  1.  1.  1.  1.  1.\n",
      "  1.  1.  1.  1.  1.  1.  1.  1.  2.  1.  1.  1.  2.  3.  1.  1.  1.  1.\n",
      "  2.  1.  1.  3.  3.  3.  1.  3.  3.  3.  3.  1.  3.  3.  3.  3.  2.  3.\n",
      "  3.  3.  3.  1.  1.  1.  1.  1.  1.  1.  1.  1.  2.  1.  1.  1.  3.  3.\n",
      "  1.  1.  3.  3.  3.  1.  2.  3.  3.  3.  1.  1.  1.  1.  1.  1.  1.  1.\n",
      "  1.  1.  1.  1.  1.  1.  2.  1.  1.  1.  3.  3.  1.  1.  2.  3.  3.  1.\n",
      "  1.  1.  1.  1.  1.  1.  1.  1.  1.  1.  1.  1.  1.  1.  1.  1.  1.  1.\n",
      "  2.  1.  1.  1.  2.  3.  1.  1.  1.  1.  1.  1.  1.  1.  1.  1.  1.  1.\n",
      "  1.  1.  1.  1.  1.  1.  1.  1.  1.  1.  1.  1.  2.]\n"
     ]
    }
   ],
   "source": [
    "print(x)\n",
    "print(y)"
   ]
  },
  {
   "cell_type": "code",
   "execution_count": 67,
   "metadata": {
    "collapsed": true
   },
   "outputs": [],
   "source": [
    "from sklearn.model_selection import train_test_split"
   ]
  },
  {
   "cell_type": "code",
   "execution_count": 86,
   "metadata": {
    "collapsed": true
   },
   "outputs": [],
   "source": [
    "# generates train and test datasets\n",
    "x_train, x_test, y_train, y_test = train_test_split(x, y, test_size = 0.3, random_state = 42)"
   ]
  },
  {
   "cell_type": "code",
   "execution_count": 69,
   "metadata": {
    "collapsed": false
   },
   "outputs": [
    {
     "name": "stdout",
     "output_type": "stream",
     "text": [
      "437\n"
     ]
    }
   ],
   "source": [
    "print(len(x_train))"
   ]
  },
  {
   "cell_type": "code",
   "execution_count": 88,
   "metadata": {
    "collapsed": false
   },
   "outputs": [
    {
     "data": {
      "text/plain": [
       "array([[ 4.,  3.,  5.,  3.],\n",
       "       [ 4.,  5.,  3.,  1.],\n",
       "       [ 2.,  4.,  4.,  1.],\n",
       "       [ 2.,  4.,  3.,  3.],\n",
       "       [ 4.,  5.,  2.,  1.],\n",
       "       [ 5.,  1.,  4.,  1.],\n",
       "       [ 2.,  2.,  3.,  4.],\n",
       "       [ 1.,  4.,  1.,  3.],\n",
       "       [ 5.,  2.,  1.,  3.],\n",
       "       [ 2.,  1.,  5.,  1.],\n",
       "       [ 3.,  1.,  4.,  1.],\n",
       "       [ 1.,  2.,  2.,  2.],\n",
       "       [ 1.,  3.,  2.,  1.],\n",
       "       [ 1.,  4.,  4.,  1.],\n",
       "       [ 5.,  3.,  2.,  3.],\n",
       "       [ 1.,  4.,  1.,  2.],\n",
       "       [ 1.,  1.,  1.,  3.],\n",
       "       [ 3.,  5.,  4.,  4.],\n",
       "       [ 4.,  1.,  5.,  1.],\n",
       "       [ 3.,  2.,  3.,  2.],\n",
       "       [ 2.,  1.,  2.,  2.],\n",
       "       [ 2.,  1.,  5.,  4.],\n",
       "       [ 1.,  2.,  5.,  5.],\n",
       "       [ 5.,  5.,  5.,  2.],\n",
       "       [ 4.,  3.,  3.,  3.],\n",
       "       [ 1.,  5.,  3.,  1.],\n",
       "       [ 3.,  1.,  2.,  3.],\n",
       "       [ 5.,  4.,  1.,  4.],\n",
       "       [ 5.,  5.,  5.,  1.],\n",
       "       [ 3.,  1.,  2.,  2.],\n",
       "       [ 3.,  4.,  2.,  5.],\n",
       "       [ 3.,  1.,  3.,  2.],\n",
       "       [ 2.,  3.,  2.,  5.],\n",
       "       [ 5.,  3.,  1.,  5.],\n",
       "       [ 2.,  1.,  2.,  3.],\n",
       "       [ 4.,  5.,  3.,  3.],\n",
       "       [ 3.,  4.,  3.,  1.],\n",
       "       [ 5.,  5.,  3.,  3.],\n",
       "       [ 2.,  3.,  2.,  2.],\n",
       "       [ 5.,  4.,  5.,  5.],\n",
       "       [ 4.,  1.,  2.,  2.],\n",
       "       [ 1.,  2.,  3.,  5.],\n",
       "       [ 1.,  4.,  3.,  2.],\n",
       "       [ 5.,  5.,  2.,  4.],\n",
       "       [ 3.,  3.,  4.,  4.],\n",
       "       [ 2.,  4.,  2.,  4.],\n",
       "       [ 3.,  1.,  3.,  1.],\n",
       "       [ 5.,  1.,  3.,  4.],\n",
       "       [ 1.,  4.,  1.,  4.],\n",
       "       [ 3.,  4.,  4.,  5.],\n",
       "       [ 5.,  3.,  2.,  2.],\n",
       "       [ 3.,  2.,  2.,  2.],\n",
       "       [ 1.,  1.,  3.,  1.],\n",
       "       [ 3.,  1.,  2.,  5.],\n",
       "       [ 5.,  5.,  1.,  1.],\n",
       "       [ 3.,  3.,  3.,  2.],\n",
       "       [ 2.,  1.,  3.,  1.],\n",
       "       [ 4.,  3.,  2.,  5.],\n",
       "       [ 2.,  4.,  3.,  1.],\n",
       "       [ 1.,  2.,  2.,  1.],\n",
       "       [ 5.,  4.,  1.,  5.],\n",
       "       [ 4.,  5.,  2.,  3.],\n",
       "       [ 2.,  3.,  4.,  3.],\n",
       "       [ 5.,  1.,  2.,  5.],\n",
       "       [ 5.,  4.,  3.,  4.],\n",
       "       [ 3.,  3.,  1.,  1.],\n",
       "       [ 1.,  3.,  2.,  2.],\n",
       "       [ 2.,  3.,  5.,  2.],\n",
       "       [ 5.,  2.,  3.,  1.],\n",
       "       [ 2.,  5.,  3.,  1.],\n",
       "       [ 3.,  1.,  5.,  3.],\n",
       "       [ 1.,  1.,  5.,  5.],\n",
       "       [ 1.,  4.,  2.,  3.],\n",
       "       [ 2.,  2.,  2.,  4.],\n",
       "       [ 5.,  2.,  4.,  4.],\n",
       "       [ 2.,  4.,  5.,  1.],\n",
       "       [ 5.,  4.,  4.,  3.],\n",
       "       [ 1.,  3.,  5.,  1.],\n",
       "       [ 3.,  5.,  2.,  3.],\n",
       "       [ 5.,  1.,  3.,  3.],\n",
       "       [ 3.,  5.,  4.,  5.],\n",
       "       [ 1.,  3.,  3.,  1.],\n",
       "       [ 4.,  1.,  5.,  4.],\n",
       "       [ 4.,  2.,  2.,  1.],\n",
       "       [ 2.,  4.,  2.,  5.],\n",
       "       [ 5.,  4.,  4.,  5.],\n",
       "       [ 4.,  4.,  1.,  1.],\n",
       "       [ 5.,  3.,  2.,  5.],\n",
       "       [ 2.,  2.,  5.,  5.],\n",
       "       [ 3.,  5.,  1.,  1.],\n",
       "       [ 3.,  1.,  1.,  1.],\n",
       "       [ 3.,  3.,  1.,  2.],\n",
       "       [ 1.,  2.,  1.,  5.],\n",
       "       [ 5.,  3.,  5.,  1.],\n",
       "       [ 1.,  5.,  1.,  2.],\n",
       "       [ 2.,  4.,  4.,  4.],\n",
       "       [ 3.,  2.,  4.,  3.],\n",
       "       [ 3.,  1.,  5.,  5.],\n",
       "       [ 4.,  2.,  4.,  3.],\n",
       "       [ 3.,  1.,  5.,  2.],\n",
       "       [ 2.,  4.,  1.,  4.],\n",
       "       [ 5.,  2.,  2.,  5.],\n",
       "       [ 4.,  2.,  5.,  2.],\n",
       "       [ 3.,  2.,  2.,  5.],\n",
       "       [ 2.,  5.,  2.,  2.],\n",
       "       [ 1.,  4.,  2.,  2.],\n",
       "       [ 3.,  4.,  4.,  1.],\n",
       "       [ 1.,  5.,  2.,  5.],\n",
       "       [ 4.,  3.,  4.,  4.],\n",
       "       [ 2.,  5.,  1.,  3.],\n",
       "       [ 1.,  3.,  3.,  4.],\n",
       "       [ 2.,  2.,  2.,  1.],\n",
       "       [ 1.,  3.,  5.,  3.],\n",
       "       [ 4.,  1.,  2.,  3.],\n",
       "       [ 5.,  4.,  2.,  4.],\n",
       "       [ 1.,  5.,  4.,  4.],\n",
       "       [ 5.,  4.,  2.,  5.],\n",
       "       [ 3.,  3.,  3.,  1.],\n",
       "       [ 5.,  4.,  2.,  1.],\n",
       "       [ 2.,  4.,  3.,  2.],\n",
       "       [ 2.,  1.,  4.,  1.],\n",
       "       [ 5.,  3.,  5.,  4.],\n",
       "       [ 2.,  5.,  1.,  4.],\n",
       "       [ 4.,  2.,  3.,  3.],\n",
       "       [ 2.,  3.,  3.,  4.],\n",
       "       [ 5.,  1.,  3.,  5.],\n",
       "       [ 4.,  4.,  4.,  5.],\n",
       "       [ 1.,  1.,  2.,  2.],\n",
       "       [ 1.,  5.,  1.,  5.],\n",
       "       [ 1.,  5.,  3.,  5.],\n",
       "       [ 4.,  5.,  1.,  3.],\n",
       "       [ 4.,  5.,  5.,  2.],\n",
       "       [ 4.,  5.,  4.,  5.],\n",
       "       [ 5.,  3.,  4.,  4.],\n",
       "       [ 4.,  3.,  1.,  4.],\n",
       "       [ 3.,  3.,  1.,  5.],\n",
       "       [ 4.,  2.,  4.,  1.],\n",
       "       [ 4.,  1.,  5.,  5.],\n",
       "       [ 3.,  2.,  4.,  1.],\n",
       "       [ 5.,  3.,  2.,  4.],\n",
       "       [ 2.,  3.,  1.,  3.],\n",
       "       [ 4.,  4.,  5.,  4.],\n",
       "       [ 1.,  2.,  4.,  3.],\n",
       "       [ 1.,  3.,  5.,  4.],\n",
       "       [ 5.,  2.,  4.,  2.],\n",
       "       [ 1.,  3.,  4.,  2.],\n",
       "       [ 1.,  1.,  3.,  2.],\n",
       "       [ 3.,  4.,  2.,  3.],\n",
       "       [ 2.,  5.,  4.,  5.],\n",
       "       [ 5.,  2.,  5.,  4.],\n",
       "       [ 2.,  3.,  5.,  5.],\n",
       "       [ 1.,  4.,  2.,  4.],\n",
       "       [ 4.,  3.,  4.,  5.],\n",
       "       [ 3.,  5.,  3.,  4.],\n",
       "       [ 1.,  4.,  1.,  5.],\n",
       "       [ 1.,  1.,  5.,  4.],\n",
       "       [ 4.,  1.,  4.,  1.],\n",
       "       [ 3.,  3.,  2.,  1.],\n",
       "       [ 2.,  2.,  4.,  1.],\n",
       "       [ 5.,  5.,  4.,  2.],\n",
       "       [ 3.,  4.,  3.,  2.],\n",
       "       [ 2.,  4.,  3.,  4.],\n",
       "       [ 2.,  1.,  3.,  3.],\n",
       "       [ 5.,  3.,  3.,  4.],\n",
       "       [ 5.,  2.,  5.,  1.],\n",
       "       [ 2.,  3.,  1.,  2.],\n",
       "       [ 1.,  1.,  2.,  5.],\n",
       "       [ 4.,  2.,  2.,  3.],\n",
       "       [ 2.,  5.,  3.,  4.],\n",
       "       [ 4.,  2.,  2.,  4.],\n",
       "       [ 5.,  5.,  3.,  1.],\n",
       "       [ 3.,  1.,  4.,  4.],\n",
       "       [ 1.,  4.,  2.,  5.],\n",
       "       [ 3.,  2.,  4.,  2.],\n",
       "       [ 3.,  3.,  3.,  3.],\n",
       "       [ 3.,  3.,  5.,  1.],\n",
       "       [ 4.,  2.,  1.,  4.],\n",
       "       [ 5.,  5.,  2.,  2.],\n",
       "       [ 2.,  5.,  5.,  3.],\n",
       "       [ 5.,  1.,  2.,  2.],\n",
       "       [ 3.,  2.,  5.,  5.],\n",
       "       [ 2.,  2.,  1.,  4.],\n",
       "       [ 1.,  4.,  1.,  1.],\n",
       "       [ 1.,  4.,  4.,  3.],\n",
       "       [ 3.,  3.,  5.,  2.],\n",
       "       [ 1.,  3.,  4.,  4.],\n",
       "       [ 1.,  1.,  4.,  1.],\n",
       "       [ 4.,  1.,  2.,  1.]])"
      ]
     },
     "execution_count": 88,
     "metadata": {},
     "output_type": "execute_result"
    }
   ],
   "source": [
    "x_test"
   ]
  },
  {
   "cell_type": "code",
   "execution_count": 89,
   "metadata": {
    "collapsed": false
   },
   "outputs": [
    {
     "name": "stdout",
     "output_type": "stream",
     "text": [
      "188\n"
     ]
    }
   ],
   "source": [
    "knn = KNeighborsClassifier(n_neighbors=17)\n",
    "knn.fit(x_train, y_train)\n",
    "labels = knn.predict(x_test)\n",
    "print(len(labels))"
   ]
  },
  {
   "cell_type": "code",
   "execution_count": 91,
   "metadata": {
    "collapsed": false
   },
   "outputs": [
    {
     "data": {
      "text/plain": [
       "188"
      ]
     },
     "execution_count": 91,
     "metadata": {},
     "output_type": "execute_result"
    }
   ],
   "source": [
    "len(labels)"
   ]
  },
  {
   "cell_type": "code",
   "execution_count": 92,
   "metadata": {
    "collapsed": false
   },
   "outputs": [
    {
     "name": "stdout",
     "output_type": "stream",
     "text": [
      "Total train: 437\n",
      "Total test:  188\n",
      "Total match: 163\n",
      "Pct match:   86.70%\n"
     ]
    }
   ],
   "source": [
    "print ('Total train: %d' % len(x_train))\n",
    "print ('Total test:  %d' % len(x_test))\n",
    "print ('Total match: %d' % np.sum(labels == y_test))\n",
    "print ('Pct match:   %.2f%%' % (100 * (np.sum(labels == y_test)) / len(x_test)))"
   ]
  },
  {
   "cell_type": "code",
   "execution_count": 93,
   "metadata": {
    "collapsed": false
   },
   "outputs": [
    {
     "data": {
      "text/plain": [
       "0.86702127659574468"
      ]
     },
     "execution_count": 93,
     "metadata": {},
     "output_type": "execute_result"
    }
   ],
   "source": [
    "knn.score(x_test, y_test)"
   ]
  },
  {
   "cell_type": "code",
   "execution_count": 94,
   "metadata": {
    "collapsed": false
   },
   "outputs": [
    {
     "data": {
      "text/plain": [
       "0.86702127659574468"
      ]
     },
     "execution_count": 94,
     "metadata": {},
     "output_type": "execute_result"
    }
   ],
   "source": [
    "np.mean(labels == y_test)"
   ]
  },
  {
   "cell_type": "code",
   "execution_count": null,
   "metadata": {
    "collapsed": true
   },
   "outputs": [],
   "source": []
  }
 ],
 "metadata": {
  "kernelspec": {
   "display_name": "Python 3",
   "language": "python",
   "name": "python3"
  },
  "language_info": {
   "codemirror_mode": {
    "name": "ipython",
    "version": 3
   },
   "file_extension": ".py",
   "mimetype": "text/x-python",
   "name": "python",
   "nbconvert_exporter": "python",
   "pygments_lexer": "ipython3",
   "version": "3.6.0"
  }
 },
 "nbformat": 4,
 "nbformat_minor": 2
}
