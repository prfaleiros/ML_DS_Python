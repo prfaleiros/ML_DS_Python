{
 "cells": [
  {
   "cell_type": "code",
   "execution_count": 132,
   "metadata": {
    "collapsed": true
   },
   "outputs": [],
   "source": [
    "class Coord(object):\n",
    "    def __init__(self, x, y):\n",
    "        self.x = x\n",
    "        self.y = y\n",
    "            \n",
    "    def __str__(self):\n",
    "        return '<%s, %s>' % (self.x, self.y)"
   ]
  },
  {
   "cell_type": "code",
   "execution_count": 133,
   "metadata": {
    "collapsed": false
   },
   "outputs": [],
   "source": [
    "class Robot(Coord):\n",
    "    \n",
    "    def __init__(self, x, y):\n",
    "        super(Robot, self).__init__(x, y)\n",
    "        self.xlim = 10\n",
    "        self.ylim = 10\n",
    "\n",
    "    def move_up(self):\n",
    "        if self.y < self.ylim:\n",
    "            self.y += 1\n",
    "        else:\n",
    "            print('Cannot move up')\n",
    "        \n",
    "    def move_down(self):\n",
    "        if self.y > 1:\n",
    "            self.y -= 1\n",
    "        else:\n",
    "            print('Cannot move down')\n",
    "        \n",
    "    def move_left(self):\n",
    "        if self.x > 1:\n",
    "            self.x -= 1\n",
    "        else:\n",
    "            print('Cannot move left')\n",
    "        \n",
    "    def move_right(self):\n",
    "        if self.x < self.xlim:\n",
    "            self.x += 1\n",
    "        else:\n",
    "            print('Cannot move right')\n",
    "        \n"
   ]
  },
  {
   "cell_type": "code",
   "execution_count": 134,
   "metadata": {
    "collapsed": false
   },
   "outputs": [],
   "source": [
    "class Reward(Coord):\n",
    "    def __init__(self, x, y, name):\n",
    "        super(Reward, self).__init__(x, y)\n",
    "        self.name = name\n",
    "        \n",
    "    def __str__(self):\n",
    "        return '<%s, %s>: %s' % (self.x, self.y, self.name)\n",
    "    \n",
    "    def __repr__(self):\n",
    "        return '<Reward> %s' % str(self)\n"
   ]
  },
  {
   "cell_type": "code",
   "execution_count": 100,
   "metadata": {
    "collapsed": true
   },
   "outputs": [],
   "source": [
    "r1 = Robot(2, 2)"
   ]
  },
  {
   "cell_type": "code",
   "execution_count": 97,
   "metadata": {
    "collapsed": true
   },
   "outputs": [],
   "source": [
    "rw1 = Reward(3, 1, \"Gold\")"
   ]
  },
  {
   "cell_type": "code",
   "execution_count": 89,
   "metadata": {
    "collapsed": false
   },
   "outputs": [
    {
     "name": "stdout",
     "output_type": "stream",
     "text": [
      "Cannot move up\n"
     ]
    }
   ],
   "source": [
    "r1.move_up()"
   ]
  },
  {
   "cell_type": "code",
   "execution_count": 107,
   "metadata": {
    "collapsed": true
   },
   "outputs": [],
   "source": [
    "def check_reward(robot, rewards):\n",
    "    found = False\n",
    "    for reward in rewards:\n",
    "        if reward.x == robot.x and reward.y == robot.y:\n",
    "            print('Reward found: %s' % reward.name)\n",
    "            found = True\n",
    "    return found"
   ]
  },
  {
   "cell_type": "code",
   "execution_count": 99,
   "metadata": {
    "collapsed": true
   },
   "outputs": [],
   "source": [
    "rw1 = Reward(1, 2, \"Gold\")\n",
    "rw2 = Reward(5, 3, \"Silver\")\n"
   ]
  },
  {
   "cell_type": "code",
   "execution_count": 101,
   "metadata": {
    "collapsed": true
   },
   "outputs": [],
   "source": [
    "rewards = [rw1, rw2]"
   ]
  },
  {
   "cell_type": "code",
   "execution_count": 108,
   "metadata": {
    "collapsed": false
   },
   "outputs": [
    {
     "name": "stdout",
     "output_type": "stream",
     "text": [
      "Reward found: Gold\n"
     ]
    },
    {
     "data": {
      "text/plain": [
       "True"
      ]
     },
     "execution_count": 108,
     "metadata": {},
     "output_type": "execute_result"
    }
   ],
   "source": [
    "check_reward(r1, rewards)"
   ]
  },
  {
   "cell_type": "code",
   "execution_count": 13,
   "metadata": {
    "collapsed": true
   },
   "outputs": [],
   "source": [
    "# Robot3D heirs Robot properties\n",
    "class Robot3D(Robot):\n",
    "    \n",
    "    def __init__(self, x, y, z):\n",
    "        super(Robot3D, self).__init__(x, y)\n",
    "        self.z = z"
   ]
  },
  {
   "cell_type": "code",
   "execution_count": 105,
   "metadata": {
    "collapsed": false
   },
   "outputs": [],
   "source": [
    "r1.move_left()"
   ]
  },
  {
   "cell_type": "code",
   "execution_count": 16,
   "metadata": {
    "collapsed": false
   },
   "outputs": [
    {
     "name": "stdout",
     "output_type": "stream",
     "text": [
      "5\n"
     ]
    }
   ],
   "source": [
    "r2.print_x()"
   ]
  },
  {
   "cell_type": "code",
   "execution_count": 110,
   "metadata": {
    "collapsed": true
   },
   "outputs": [],
   "source": [
    "import random"
   ]
  },
  {
   "cell_type": "code",
   "execution_count": 127,
   "metadata": {
    "collapsed": true
   },
   "outputs": [],
   "source": [
    "r1 = Reward(random.randint(1,10), random.randint(1,10), 'Food')\n",
    "r2 = Reward(random.randint(1,10), random.randint(1,10), 'Ammo')\n",
    "r3 = Reward(random.randint(1,10), random.randint(1,10), 'Water')\n"
   ]
  },
  {
   "cell_type": "code",
   "execution_count": 128,
   "metadata": {
    "collapsed": true
   },
   "outputs": [],
   "source": [
    "rewards = [r1, r2, r3]"
   ]
  },
  {
   "cell_type": "code",
   "execution_count": 129,
   "metadata": {
    "collapsed": false
   },
   "outputs": [
    {
     "name": "stdout",
     "output_type": "stream",
     "text": [
      "<3, 7>: Water\n"
     ]
    }
   ],
   "source": [
    "print(r3)"
   ]
  },
  {
   "cell_type": "code",
   "execution_count": 131,
   "metadata": {
    "collapsed": false
   },
   "outputs": [
    {
     "data": {
      "text/plain": [
       "[<Reward> <4, 10>: Food, <Reward> <10, 10>: Ammo, <Reward> <3, 7>: Water]"
      ]
     },
     "execution_count": 131,
     "metadata": {},
     "output_type": "execute_result"
    }
   ],
   "source": [
    "rewards"
   ]
  },
  {
   "cell_type": "code",
   "execution_count": 142,
   "metadata": {
    "collapsed": true
   },
   "outputs": [],
   "source": [
    "robot = Robot(random.randint(1,10), random.randint(1,10))"
   ]
  },
  {
   "cell_type": "code",
   "execution_count": 137,
   "metadata": {
    "collapsed": false
   },
   "outputs": [
    {
     "data": {
      "text/plain": [
       "<__main__.Robot at 0x2bcc5bb6cf8>"
      ]
     },
     "execution_count": 137,
     "metadata": {},
     "output_type": "execute_result"
    }
   ],
   "source": [
    "robot"
   ]
  },
  {
   "cell_type": "code",
   "execution_count": 144,
   "metadata": {
    "collapsed": false,
    "scrolled": true
   },
   "outputs": [
    {
     "name": "stdout",
     "output_type": "stream",
     "text": [
      "UP: [d], DOWN: [x], LEFT: [z], RIGHT: [c] \n",
      "d\n",
      "Cannot move up\n",
      "<8, 10>\n",
      "z\n",
      "<7, 10>\n",
      "z\n",
      "<6, 10>\n",
      "z\n",
      "<5, 10>\n",
      "z\n",
      "<4, 10>\n",
      "Reward found: Food\n",
      "x\n",
      "<4, 9>\n",
      "x\n",
      "<4, 8>\n",
      "c\n",
      "<5, 8>\n",
      "c\n",
      "<6, 8>\n",
      "x\n",
      "<6, 7>\n"
     ]
    }
   ],
   "source": [
    "print('UP: [d], DOWN: [x], LEFT: [z], RIGHT: [c] ')\n",
    "for i in range(10):\n",
    "    move = input()\n",
    "    if move == 'd':\n",
    "        robot.move_up()\n",
    "    elif move == 'x':\n",
    "        robot.move_down()\n",
    "    elif move == 'z':\n",
    "        robot.move_left()\n",
    "    elif move == 'c':\n",
    "        robot.move_right()\n",
    "    else:\n",
    "        print('Invalid move')\n",
    "        continue\n",
    "    print(robot)\n",
    "    check_reward(robot, rewards)"
   ]
  },
  {
   "cell_type": "code",
   "execution_count": null,
   "metadata": {
    "collapsed": true
   },
   "outputs": [],
   "source": []
  }
 ],
 "metadata": {
  "kernelspec": {
   "display_name": "Python 3",
   "language": "python",
   "name": "python3"
  },
  "language_info": {
   "codemirror_mode": {
    "name": "ipython",
    "version": 3
   },
   "file_extension": ".py",
   "mimetype": "text/x-python",
   "name": "python",
   "nbconvert_exporter": "python",
   "pygments_lexer": "ipython3",
   "version": "3.6.0"
  }
 },
 "nbformat": 4,
 "nbformat_minor": 2
}
